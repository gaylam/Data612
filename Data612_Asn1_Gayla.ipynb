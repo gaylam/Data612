{
  "nbformat": 4,
  "nbformat_minor": 0,
  "metadata": {
    "colab": {
      "provenance": [],
      "authorship_tag": "ABX9TyPonQHB8bQm/qLBtNBZ22Hq",
      "include_colab_link": true
    },
    "kernelspec": {
      "name": "python3",
      "display_name": "Python 3"
    },
    "language_info": {
      "name": "python"
    }
  },
  "cells": [
    {
      "cell_type": "markdown",
      "metadata": {
        "id": "view-in-github",
        "colab_type": "text"
      },
      "source": [
        "<a href=\"https://colab.research.google.com/github/gaylam/Temporary_add_to_version_control/blob/main/Data612_Asn1_Gayla.ipynb\" target=\"_parent\"><img src=\"https://colab.research.google.com/assets/colab-badge.svg\" alt=\"Open In Colab\"/></a>"
      ]
    },
    {
      "cell_type": "markdown",
      "source": [],
      "metadata": {
        "id": "_LSMhAq6JGVt"
      }
    },
    {
      "cell_type": "markdown",
      "source": [
        "Author: Gayla Smith\n",
        "Class:  DATA 612\n",
        "Asgn:   Module 2"
      ],
      "metadata": {
        "id": "Rnc1B4r1JJ-U"
      }
    },
    {
      "cell_type": "code",
      "source": [
        "def total(num1,num2):\n",
        "  '''\n",
        "  Returns the sum of all integers between num1 and num2, including num2\n",
        "\n",
        "  Parameters:\n",
        "  num1 : first integer\n",
        "  num2 : second integer\n",
        "\n",
        "  Returns:\n",
        "  sum : sum of all integers between num1 and num2, inclusive\n",
        "  '''\n",
        "  sum=0\n",
        "  for i in range(num1, num2+1): # for loop\n",
        "    sum+=i\n",
        "  return sum\n",
        "\n",
        "# Prompt user for two numbers and convert to integers\n",
        "num1 = int(input('Enter the first number: '))\n",
        "num2 = int(input('Enter the second number: '))\n",
        "\n",
        "# Call the total function and print the result\n",
        "print(total(num1, num2))\n",
        "\n"
      ],
      "metadata": {
        "colab": {
          "base_uri": "https://localhost:8080/"
        },
        "id": "hYXS5iJlb6TY",
        "outputId": "4f26d2ff-fa32-4861-89bf-6f82f3b1d8df"
      },
      "execution_count": 8,
      "outputs": [
        {
          "output_type": "stream",
          "name": "stdout",
          "text": [
            "Enter the first number: 20\n",
            "Enter the second number: 40\n",
            "630\n"
          ]
        }
      ]
    },
    {
      "cell_type": "code",
      "source": [
        "def total(num1, num2):\n",
        "   '''\n",
        "   Returns the sum of all integers between num1 and num2, including num2\n",
        "\n",
        "   Parameters:\n",
        "   num1 : first integer\n",
        "   num2 : second integer\n",
        "\n",
        "   Returns:\n",
        "   sum : sum of all integers between num1 and num2, inclusive\n",
        "   '''\n",
        "   sum=0\n",
        "   while num1<=num2: # while loop\n",
        "     sum+=num1\n",
        "     num1+=1\n",
        "   return sum\n",
        "\n",
        "# Prompt user for two numbers and convert to integers\n",
        "num1=int(input('Enter the first number: '))\n",
        "num2=int(input('Enter the second number: '))\n",
        "\n",
        "# Call the total function and print the result\n",
        "print(total(num1, num2))"
      ],
      "metadata": {
        "colab": {
          "base_uri": "https://localhost:8080/"
        },
        "id": "2mo2pkqBg5hu",
        "outputId": "05ba9963-d47c-4628-955c-8d8e200e4e42"
      },
      "execution_count": 13,
      "outputs": [
        {
          "output_type": "stream",
          "name": "stdout",
          "text": [
            "Enter the first number: 20\n",
            "Enter the second number: 40\n",
            "630\n"
          ]
        }
      ]
    }
  ]
}